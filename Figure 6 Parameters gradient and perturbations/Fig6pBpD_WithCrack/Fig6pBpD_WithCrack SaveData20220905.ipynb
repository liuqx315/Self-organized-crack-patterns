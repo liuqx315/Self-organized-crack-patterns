{
 "cells": [
  {
   "cell_type": "markdown",
   "metadata": {},
   "source": [
    "# Biophysical self-organization amplifies the resilience of salt marshes"
   ]
  },
  {
   "cell_type": "markdown",
   "metadata": {},
   "source": [
    "The tensile stress, humidity of soil surface, water content, and plant biomass are defined as 𝑆(𝒓, 𝑡), 𝐸(𝒓, 𝑡), 𝑊(𝒓, 𝑡), and 𝑃(𝒓, 𝑡) at position 𝒓 = (𝑥, 𝑦) and time 𝑡, respectively. "
   ]
  },
  {
   "cell_type": "markdown",
   "metadata": {},
   "source": [
    "$\\frac{\\partial S}{\\partial t} = r_S (S-S_{min}) (S_{critical}-S) (S-S_{max}) + c_S (E - e)$"
   ]
  },
  {
   "cell_type": "markdown",
   "metadata": {},
   "source": [
    "$\\frac{\\partial W}{\\partial t} = \\frac{c_W}{k_W + S} - d_E (E - e) W - l_P P \\frac{W}{k_P+W} + D_W\\mathrm{\\Delta W}$"
   ]
  },
  {
   "cell_type": "markdown",
   "metadata": {},
   "source": [
    "$\\frac{\\partial E}{\\partial t} = r_E (W - h) (E - e) + D_E \\mathrm{\\Delta E}$"
   ]
  },
  {
   "cell_type": "markdown",
   "metadata": {},
   "source": [
    "$\\frac{\\partial P}{\\partial t} = r_P \\frac{W(1-S)}{k_P+W} P - d_P P^2 + D_P \\mathrm{\\Delta P}$"
   ]
  },
  {
   "cell_type": "code",
   "execution_count": null,
   "metadata": {},
   "outputs": [],
   "source": [
    "%reset -f"
   ]
  },
  {
   "cell_type": "markdown",
   "metadata": {},
   "source": [
    "### Loading some crucial python packages"
   ]
  },
  {
   "cell_type": "code",
   "execution_count": null,
   "metadata": {},
   "outputs": [],
   "source": [
    "import time,os\n",
    "import numpy as np\n",
    "import matplotlib.pyplot as plt\n",
    "from matplotlib import rcParams\n",
    "%matplotlib inline\n",
    "%config InlineBackend.figure_format = 'svg'\n",
    "# Widening the screen\n",
    "from IPython.core.display import display, HTML\n",
    "display(HTML(\"<style>.container { width:90% !important; }</style>\"))\n",
    "FS=25\n",
    "rcParams['figure.dpi'] = 5000\n",
    "rcParams['savefig.dpi'] = 5000\n",
    "rcParams['font.size'] = FS\n",
    "rcParams['font.family'] = 'StixGeneral'#'Times New Roman'\n",
    "rcParams[\"mathtext.fontset\"] = 'stix'\n",
    "# rcParams[\"mathtext.default\"] = \"rm\" \n",
    "#rcParams['xtick.direction'] = 'in'\n",
    "plt.rc('font', size=FS)          # controls default text sizes\n",
    "plt.rc('axes', titlesize=FS)     # fontsize of the axes title\n",
    "plt.rc('axes', labelsize=FS)     # fontsize of the x and y labels\n",
    "plt.rc('xtick', labelsize=FS)    # fontsize of the tick labels\n",
    "plt.rc('ytick', labelsize=FS)    # fontsize of the tick labels\n",
    "plt.rc('legend', fontsize=FS)    # legend fontsize\n",
    "plt.rc('figure', titlesize=FS)   # fontsize of the figure title"
   ]
  },
  {
   "cell_type": "markdown",
   "metadata": {},
   "source": [
    "### Parameter definitions \n",
    "Here, the parameters that are found in the equations are given their value."
   ]
  },
  {
   "cell_type": "code",
   "execution_count": null,
   "metadata": {},
   "outputs": [],
   "source": [
    "#tensile stress\n",
    "rS   = 0.3\n",
    "Smin = 0.0001 \n",
    "Smax = 0.3    \n",
    "Scri = 0.15   \n",
    "cS   = 0.0015\n",
    "e    = 1.0\n",
    "#water content\n",
    "cW   = 0.001125\n",
    "kW   = 0.05\n",
    "dE   = 0.025\n",
    "lP   = 0.039\n",
    "kP   = 1.0\n",
    "DW   = 0.3\n",
    "#humidity of soil surface\n",
    "rE   = 0.25\n",
    "h    = 1.0\n",
    "DE   = 0.15\n",
    "#plant biomass\n",
    "rP   = 0.25\n",
    "dP   = 0.25\n",
    "DP   = 0.015"
   ]
  },
  {
   "cell_type": "markdown",
   "metadata": {},
   "source": [
    "### Root"
   ]
  },
  {
   "cell_type": "code",
   "execution_count": null,
   "metadata": {},
   "outputs": [],
   "source": [
    "from scipy.optimize import fsolve\n",
    "def func(par):\n",
    "    S,W,E,P=par[0],par[1],par[2],par[3]\n",
    "    return [rS*(S-Smin)*(S-Smax)*(Scri-S) + cS*(E-e),\n",
    "            cW/(kW+S) - dE*(E-e)*W - lP*W*P/(kP+W),\n",
    "            rE*(W - h)*(E-e),\n",
    "            rP*P*(1.0-S)*W/(kP+W) - dP*P*P]\n",
    "s1 = fsolve(func,[0,0,0,0.5])\n",
    "s2 = fsolve(func,[0.3,1,1.2,0])\n",
    "print(s1)\n",
    "print(s2)"
   ]
  },
  {
   "cell_type": "code",
   "execution_count": null,
   "metadata": {},
   "outputs": [],
   "source": [
    "from scipy.optimize import root\n",
    "def func(par):\n",
    "    S,W,E,P=par[0],par[1],par[2],par[3]\n",
    "    return [rS*(S-Smin)*(S-Smax)*(Scri-S) + cS*(E-e),\n",
    "            cW/(kW+S) - dE*(E-e)*W - lP*W*P/(kP+W),\n",
    "            rE*(W - h)*(E-e),\n",
    "            rP*P*(1.0-S)*W/(kP+W) - dP*P*P]\n",
    "s = root(func,[0,3,1,1])\n",
    "print(s)"
   ]
  },
  {
   "cell_type": "markdown",
   "metadata": {},
   "source": [
    "### Simulation settings"
   ]
  },
  {
   "cell_type": "code",
   "execution_count": null,
   "metadata": {},
   "outputs": [],
   "source": [
    "length    = 4096.0    # Length of the physical landscape\n",
    "n         = 4096      # Size of the 2D grid\n",
    "endtime   = 10000.0    # End time\n",
    "dT        = 0.02      # Calculate time step\n",
    "nplot     = 100\n",
    "nsteps    = np.ceil(endtime/nplot/dT).astype(int)   #number of time steps\n",
    "dX          = length/n   # Spatial step size\n",
    "dY          = length/n   # Spatial step size\n",
    "Grid_Width  = n\n",
    "Grid_Height = n\n",
    "# %% Reporting in the simulation on the console\n",
    "print(\" Current grid dimensions: %d x %d cells\\n\" % (Grid_Width, Grid_Height));"
   ]
  },
  {
   "cell_type": "markdown",
   "metadata": {},
   "source": [
    "### Defining the device that is used"
   ]
  },
  {
   "cell_type": "code",
   "execution_count": null,
   "metadata": {},
   "outputs": [],
   "source": [
    "import pyopencl as cl\n",
    "# Setting up the OpenCL context\n",
    "DeviceNr = 1   # 0 = GTX 960M\n",
    "platform = cl.get_platforms()\n",
    "Devices  = platform[0].get_devices()  # 0 = GPU\n",
    "context  = cl.Context([Devices[DeviceNr]])\n",
    "queue    = cl.CommandQueue(context)\n",
    "mf       = cl.mem_flags # Memory flags are set\n",
    "print(\" Compute Device: %s\\n\" % Devices[DeviceNr].name)"
   ]
  },
  {
   "cell_type": "markdown",
   "metadata": {},
   "source": [
    "### Initial values"
   ]
  },
  {
   "cell_type": "code",
   "execution_count": null,
   "metadata": {},
   "outputs": [],
   "source": [
    "# The array is allocated on the GPU and the initial values are copied onto it\n",
    "#Stress\n",
    "S        = np.ones((n*n),dtype=float)*0.0\n",
    "S_host   = S.astype(np.float32)\n",
    "S_g      = cl.Buffer(context, mf.READ_WRITE | mf.COPY_HOST_PTR, hostbuf=S_host)\n",
    "#Water\n",
    "W        = np.ones((n*n),dtype=float)*3.0\n",
    "W_host   = W.astype(np.float32)\n",
    "W_g      = cl.Buffer(context, mf.READ_WRITE | mf.COPY_HOST_PTR, hostbuf=W_host)\n",
    "#Evaporation\n",
    "E        = (np.random.rand(n*n)>0.9996)*1.0+1.0\n",
    "E_host   = E.astype(np.float32)\n",
    "E_g      = cl.Buffer(context, mf.READ_WRITE | mf.COPY_HOST_PTR, hostbuf=E_host)\n",
    "#Plant\n",
    "P        = np.ones((n*n),dtype=float)*1.0\n",
    "P_host   = P.astype(np.float32)\n",
    "P_g      = cl.Buffer(context, mf.READ_WRITE | mf.COPY_HOST_PTR, hostbuf=P_host)\n",
    "\n",
    "#Water content\n",
    "#parameter ->array\n",
    "Par_max=  1.2\n",
    "Par_min=  0.8\n",
    "Par_arr        = np.logspace(np.log10(Par_max),np.log10(Par_min),n).repeat(n)#np.logspace(np.log10(3.3),np.log10(0.3),n).repeat(n)#np.logspace(np.log10(3.3),np.log10(0.3),n).repeat(n)#0.85\n",
    "Par_arr_host   = Par_arr.astype(np.float32)\n",
    "Par_arr_g      = cl.Buffer(context, mf.READ_WRITE | mf.COPY_HOST_PTR, hostbuf=Par_arr_host)\n",
    "\n",
    "# #Surface water diffusion coefficient\n",
    "# #parameter2 ->array\n",
    "# Par2_max=  0.2\n",
    "# Par2_min=  0.1\n",
    "# Par2_arr        = np.tile(np.linspace((Par2_min),(Par2_max),n),n)#np.linspace(Par2_max,Par2_min,n).repeat(n)#np.logspace(np.log10(3.3),np.log10(0.3),n).repeat(n)#np.logspace(np.log10(3.3),np.log10(0.3),n).repeat(n)#0.85\n",
    "# Par2_arr_host   = Par2_arr.astype(np.float32)\n",
    "# Par2_arr_g      = cl.Buffer(context, mf.READ_WRITE | mf.COPY_HOST_PTR, hostbuf=Par2_arr_host)"
   ]
  },
  {
   "cell_type": "code",
   "execution_count": null,
   "metadata": {},
   "outputs": [],
   "source": [
    "#parameter is X or Y ?\n",
    "cl.enqueue_copy(queue, Par_arr_host, Par_arr_g)\n",
    "plt.imshow(Par_arr_host.reshape(Grid_Width, Grid_Height),cmap='YlGn',extent=[0,length,0,length])\n",
    "cbar=plt.colorbar(fraction=0.046,pad=0.04);"
   ]
  },
  {
   "cell_type": "markdown",
   "metadata": {},
   "source": [
    "### Loading the functions d2_dxy2() and Periodicboundaries()"
   ]
  },
  {
   "cell_type": "code",
   "execution_count": null,
   "metadata": {},
   "outputs": [],
   "source": [
    "with open('SpatialFunctions_iPy.cl', 'r') as myfile:\n",
    "   SpatialFunctions = myfile.read()"
   ]
  },
  {
   "cell_type": "markdown",
   "metadata": {},
   "source": [
    "### List of parameters for the OpenCL kernel."
   ]
  },
  {
   "cell_type": "code",
   "execution_count": null,
   "metadata": {},
   "outputs": [],
   "source": [
    "# Setting up the parameters for the Kernel\n",
    "PassVars=\"rS,Smin,Smax,Scri,cS,e, cW,kW,dE,lP,kP,DW, rE,h,DE, rP,dP,DP, dX,dY,dT,Grid_Width,Grid_Height\"\n",
    "\n",
    "PassVals=eval(PassVars)\n",
    "PassVars=PassVars.split(',')\n",
    "Params=\"\"\n",
    "\n",
    "for ii in range(len(PassVals)):\n",
    "    Params = Params+\"#define \" + PassVars[ii] + \" \" + str(PassVals[ii]) + \" \\n\""
   ]
  },
  {
   "cell_type": "markdown",
   "metadata": {},
   "source": [
    "### Defining the OpenCL simulation kernel"
   ]
  },
  {
   "cell_type": "code",
   "execution_count": null,
   "metadata": {},
   "outputs": [],
   "source": [
    "ComputeCode = \"\"\"\n",
    "\n",
    "///////////////////////////////////////////////////////////////////////////////\n",
    "// Simulation kernel\n",
    "///////////////////////////////////////////////////////////////////////////////   \n",
    "\n",
    "__kernel void SimulationKernel (__global float* S, __global float* W, __global float* E, __global float* P, __global float* Par_arr)\n",
    "{\n",
    "\n",
    "    size_t current  = get_global_id(0);\n",
    "    size_t row      = floor((float)current/(float)Grid_Width);\n",
    "    size_t column   = current%Grid_Width;\n",
    "\n",
    "        if (row > 0 && row < Grid_Width-1 && column > 0 && column < Grid_Height-1)\n",
    "            {                \n",
    "             float dSdt =   rS*(S[current]-Smin)*(S[current]-Smax)*(Scri-S[current]) + cS*(E[current]-e);\n",
    "             float dWdt =   cW/(kW+S[current]) - dE*(E[current]-e)*W[current] - lP*W[current]*P[current]/(kP+W[current]) + DW*d2_dxy2(W);\n",
    "             float dEdt =   rE*(W[current] - Par_arr[current])*(E[current]-e) + DE*d2_dxy2(E);\n",
    "             float dPdt =   rP*P[current]*(1.0-S[current])*W[current]/(kP+W[current]) - dP*P[current]*P[current] + DP*d2_dxy2(P);\n",
    "             \n",
    "             S[current] = S[current] + dSdt*dT;\n",
    "             W[current] = W[current] + dWdt*dT;\n",
    "             E[current] = E[current] + dEdt*dT;\n",
    "             P[current] = P[current] + dPdt*dT;\n",
    "             \n",
    "             //S[current]=(S[current]>0)*S[current];\n",
    "             //W[current]=(W[current]>0)*W[current];\n",
    "             //E[current]=(E[current]>0)*E[current];\n",
    "             //P[current]=(P[current]>0)*P[current];\n",
    "            }\n",
    "            \n",
    "        // HANDLE Boundaries\n",
    "        else \n",
    "            {\n",
    "             NeumannBoundaries(S);\n",
    "             NeumannBoundaries(W);\n",
    "             NeumannBoundaries(E);\n",
    "             NeumannBoundaries(P);\n",
    "            }\n",
    "\n",
    "} // End SimulationKernel\n",
    "\"\"\""
   ]
  },
  {
   "cell_type": "markdown",
   "metadata": {},
   "source": [
    "### Here the kernel is compiled"
   ]
  },
  {
   "cell_type": "code",
   "execution_count": null,
   "metadata": {},
   "outputs": [],
   "source": [
    "program = cl.Program(context, Params + SpatialFunctions + ComputeCode).build()"
   ]
  },
  {
   "cell_type": "markdown",
   "metadata": {},
   "source": [
    "### The main simulation loop"
   ]
  },
  {
   "cell_type": "code",
   "execution_count": null,
   "metadata": {},
   "outputs": [],
   "source": [
    "from ipywidgets import FloatProgress\n",
    "from IPython.display import display\n",
    "\n",
    "# Setting up a progress bar for the simulation\n",
    "print(\"Progress :\");\n",
    "PB = FloatProgress(min=0, max=nplot); display(PB) \n",
    "\n",
    "Ss=np.zeros((Grid_Width, Grid_Height, nplot))\n",
    "Ws=np.zeros((Grid_Width, Grid_Height, nplot))\n",
    "Es=np.zeros((Grid_Width, Grid_Height, nplot))\n",
    "Ps=np.zeros((Grid_Width, Grid_Height, nplot))\n",
    "\n",
    "# Set up simulation parameters\n",
    "global_size = P_host.shape\n",
    "\n",
    "# Start the timer:\n",
    "start_time = time.time()\n",
    "\n",
    "# Starting the loop\n",
    "for ii in range(nplot):\n",
    "    # The simulation\n",
    "    # We store the state of the system for <NumPlot> different times.\n",
    "    Ss[:,:,ii] = S_host.reshape(Grid_Width, Grid_Height)\n",
    "    Ws[:,:,ii] = W_host.reshape(Grid_Width, Grid_Height)\n",
    "    Es[:,:,ii] = E_host.reshape(Grid_Width, Grid_Height)\n",
    "    Ps[:,:,ii] = P_host.reshape(Grid_Width, Grid_Height)\n",
    "    \n",
    "    for jj in range(nsteps):      \n",
    "        program.SimulationKernel(queue, global_size, None, S_g, W_g, E_g, P_g, Par_arr_g)\n",
    "\n",
    "    # Get the data from the GPU\n",
    "    cl.enqueue_copy(queue, S_host, S_g)\n",
    "    cl.enqueue_copy(queue, W_host, W_g)\n",
    "    cl.enqueue_copy(queue, E_host, E_g)\n",
    "    cl.enqueue_copy(queue, P_host, P_g)\n",
    "\n",
    "#     print(ii)\n",
    "    PB.value += 1 # signal to increment the progress bar\n",
    "\n",
    "# Determining the time that we used for the simulation\n",
    "elapsed_time = time.time() - start_time    \n",
    "print(\" Simulation took      : %1.1f (s)\" % (elapsed_time))"
   ]
  },
  {
   "cell_type": "markdown",
   "metadata": {},
   "source": [
    "### Save data"
   ]
  },
  {
   "cell_type": "code",
   "execution_count": null,
   "metadata": {},
   "outputs": [],
   "source": [
    "# from scipy import io\n",
    "# import os\n",
    "# if not os.path.exists(\"Data\"):\n",
    "#     os.makedirs(\"Data\")\n",
    "# io.savemat('Data/UV_data.mat', {'Plant': Ps[:,:,99],'Par_max': Par_max, 'Par_min': Par_min,\n",
    "#                                 'Par2_max': Par2_max, 'Par2_min': Par2_min})\n",
    "# # # load data: mathfn.mat from Matlab\n",
    "# # # data = io.loadmat(matfn) "
   ]
  },
  {
   "cell_type": "code",
   "execution_count": null,
   "metadata": {},
   "outputs": [],
   "source": [
    "# from scipy import io\n",
    "# # io.savemat('plant1.mat', {'plant1': APB})\n",
    "# # io.savemat('plant11.mat', {'plant11': APB})\n",
    "# #data = io.loadmat(matfn)\n",
    "# np.save('Par13Ps.npy',Ps[:,:,:])\n",
    "# np.save('Par13Ss.npy',Ss[:,:,:])\n",
    "# np.save('Par13Ws.npy',Ws[:,:,:])\n",
    "# np.save('Par13Es.npy',Es[:,:,:])"
   ]
  },
  {
   "cell_type": "markdown",
   "metadata": {},
   "source": [
    "# Load data"
   ]
  },
  {
   "cell_type": "code",
   "execution_count": null,
   "metadata": {},
   "outputs": [],
   "source": [
    "# Ps=np.load('Par13Ps.npy')\n",
    "# P_host  = (Ps[:,:,nplot-1].reshape(n*n)).astype(np.float32)\n",
    "# P_g     = cl.Buffer(context, mf.READ_WRITE | mf.COPY_HOST_PTR, hostbuf=P_host)\n",
    "\n",
    "# # from scipy import io\n",
    "# # io.savemat('Par13Ps.mat', {'Ps': Ps[:,:,nplot-1]})"
   ]
  },
  {
   "cell_type": "code",
   "execution_count": null,
   "metadata": {},
   "outputs": [],
   "source": [
    "# Ss=np.load('Par13Ss.npy')\n",
    "# Ws=np.load('Par13Ws.npy')\n",
    "# Es=np.load('Par13Es.npy')\n",
    "# S_host  = (Ss[:,:,nplot-1].reshape(n*n)).astype(np.float32)\n",
    "# S_g     = cl.Buffer(context, mf.READ_WRITE | mf.COPY_HOST_PTR, hostbuf=S_host)\n",
    "# W_host  = (Ws[:,:,nplot-1].reshape(n*n)).astype(np.float32)\n",
    "# W_g     = cl.Buffer(context, mf.READ_WRITE | mf.COPY_HOST_PTR, hostbuf=W_host)\n",
    "# E_host  = (Es[:,:,nplot-1].reshape(n*n)).astype(np.float32)\n",
    "# E_g     = cl.Buffer(context, mf.READ_WRITE | mf.COPY_HOST_PTR, hostbuf=E_host)"
   ]
  },
  {
   "cell_type": "markdown",
   "metadata": {
    "tags": []
   },
   "source": [
    "### Plotting the results\n",
    "Plant"
   ]
  },
  {
   "cell_type": "code",
   "execution_count": null,
   "metadata": {},
   "outputs": [],
   "source": [
    "Plength    = 50\n",
    "nticker = 5\n",
    "# viridis, Reds, Greens\n",
    "from matplotlib import ticker\n",
    "fig, ax = plt.subplots(1, 1, figsize=(8, 6))\n",
    "im0 = ax.imshow(P_host.reshape(n,n),cmap='Reds',extent=[0,Plength,0,Plength],clim=(0.3,0.6));#, clim=(0,0.1));\n",
    "#ax.set_title('S');\n",
    "ax.set_xlabel('space, $x$ ($m$)');\n",
    "ax.set_ylabel('space, $y$ ($m$)');\n",
    "cbar=plt.colorbar(im0, ax=ax,fraction=0.046,pad=0.04);\n",
    "# ax[0].set_yticks(np.linspace(0,length,nticker))\n",
    "tick_locator = ticker.MaxNLocator(nbins=3)\n",
    "cbar.locator = tick_locator\n",
    "cbar.update_ticks()\n",
    "# Xlabels = np.linspace(Par2_min,Par2_max,nticker).round(3)\n",
    "# Ylabels = np.logspace(np.log10(Par_min),np.log10(Par_max),nticker).round(1)\n",
    "ax.set_xticks(np.linspace(0,Plength,nticker))\n",
    "\n",
    "# ax.set_xticklabels(Xlabels)\n",
    "ax.set_yticks(np.linspace(0,Plength,nticker))\n",
    "# ax.set_yticklabels(Ylabels)\n",
    "fig.savefig('Fig6pB_WithCrack.pdf',bbox_inches='tight')"
   ]
  },
  {
   "cell_type": "markdown",
   "metadata": {},
   "source": [
    "### Plotting the results in one dimension"
   ]
  },
  {
   "cell_type": "markdown",
   "metadata": {},
   "source": [
    "#### Select one column"
   ]
  },
  {
   "cell_type": "code",
   "execution_count": null,
   "metadata": {},
   "outputs": [],
   "source": [
    "npx = np.linspace(0,n,n)\n",
    "fig1, ax = plt.subplots(1, 1, figsize=(10, 8))\n",
    "line10, = ax.plot(npx, np.flipud(Ps[:,int(length/2),nplot-1]), lw=2, label='Plant'); \n",
    "line11, = ax.plot(npx, np.flipud(Ws[:,int(length/2),nplot-1]), lw=2, label='Water'); \n",
    "line12, = ax.plot(npx, np.flipud(Es[:,int(length/2),nplot-1]), lw=2, label='Evaporation'); \n",
    "line13, = ax.plot(npx, np.flipud(Ss[:,int(length/2),nplot-1]), lw=2, label='Stress'); \n",
    "\n",
    "ax.set_ylim(0, 1.5)\n",
    "ax.set_ylabel('Plant Water Stress, $P W S$');\n",
    "\n",
    "ax.set_xlim(0, length)\n",
    "ax.set_xlabel('Water content, $h$ [$g/m^3$]');\n",
    "Xlabels = np.logspace(np.log10(Par_min),np.log10(Par_max),nticker).round(1)\n",
    "ax.set_xticks(np.linspace(0,length,nticker))\n",
    "ax.set_xticklabels(Xlabels)\n",
    "ax.legend(fontsize=18)\n",
    "ax.grid()\n"
   ]
  },
  {
   "cell_type": "markdown",
   "metadata": {},
   "source": [
    "### SWEP: Mean Max Min"
   ]
  },
  {
   "cell_type": "code",
   "execution_count": null,
   "metadata": {},
   "outputs": [],
   "source": [
    "Smax = np.ones(int(length),dtype=float)*0.0\n",
    "Smin = np.ones(int(length),dtype=float)*0.0\n",
    "Smean = np.ones(int(length),dtype=float)*0.0\n",
    "Wmax = np.ones(int(length),dtype=float)*0.0\n",
    "Wmin = np.ones(int(length),dtype=float)*0.0\n",
    "Wmean = np.ones(int(length),dtype=float)*0.0\n",
    "Emax = np.ones(int(length),dtype=float)*0.0\n",
    "Emin = np.ones(int(length),dtype=float)*0.0\n",
    "Emean = np.ones(int(length),dtype=float)*0.0\n",
    "Pmax = np.ones(int(length),dtype=float)*0.0\n",
    "Pmin = np.ones(int(length),dtype=float)*0.0\n",
    "Pmean = np.ones(int(length),dtype=float)*0.0\n",
    "\n",
    "for imax in range(int(length)):\n",
    "    Smax[imax] = np.max(Ss[imax,:,nplot-1])\n",
    "    Smin[imax] = np.min(Ss[imax,:,nplot-1])\n",
    "    Smean[imax] = np.mean(Ss[imax,:,nplot-1])\n",
    "    \n",
    "    Wmax[imax] = np.max(Ws[imax,:,nplot-1])\n",
    "    Wmin[imax] = np.min(Ws[imax,:,nplot-1])\n",
    "    Wmean[imax] = np.mean(Ws[imax,:,nplot-1])\n",
    "\n",
    "    Emax[imax] = np.max(Es[imax,:,nplot-1])\n",
    "    Emin[imax] = np.min(Es[imax,:,nplot-1])\n",
    "    Emean[imax] = np.mean(Es[imax,:,nplot-1])\n",
    "    \n",
    "    Pmax[imax] = np.max(Ps[imax,:,nplot-1])\n",
    "    Pmin[imax] = np.min(Ps[imax,:,nplot-1])\n",
    "    Pmean[imax] = np.mean(Ps[imax,:,nplot-1])"
   ]
  },
  {
   "cell_type": "markdown",
   "metadata": {},
   "source": [
    "#### SWEP: Mean"
   ]
  },
  {
   "cell_type": "code",
   "execution_count": null,
   "metadata": {},
   "outputs": [],
   "source": [
    "npx = np.linspace(0,n,n)\n",
    "fig2, ax = plt.subplots(1, 1, figsize=(8, 4))\n",
    "\n",
    "line10, = ax.plot(npx, np.flipud(Smean), ls='-', lw=3, label='Stress');\n",
    "line11, = ax.plot(npx, np.flipud(Wmean), ls='-', lw=3, label='Water');\n",
    "line12, = ax.plot(npx, np.flipud(Emean), ls='-', lw=3, label='Humidity');\n",
    "line13, = ax.plot(npx, np.flipud(Pmean), ls='-', lw=3, label='Plant');\n",
    "\n",
    "# ax.set_ylim(0.19, 0.61)\n",
    "# ax.set_ylabel('Plant biomass, $P$ [$g/m^2$]');\n",
    "\n",
    "ax.set_xlim(0, length)\n",
    "ax.set_xlabel('Water content, $h$ [$g/m^3$]');\n",
    "Xlabels = np.logspace(np.log10(Par_min),np.log10(Par_max),nticker).round(1)\n",
    "ax.set_xticks(np.linspace(0,length,nticker))\n",
    "ax.set_xticklabels(Xlabels)\n",
    "ax.legend(fontsize=16)\n",
    "ax.grid()\n"
   ]
  },
  {
   "cell_type": "markdown",
   "metadata": {},
   "source": [
    "#### Stress: Mean Max Min"
   ]
  },
  {
   "cell_type": "code",
   "execution_count": null,
   "metadata": {},
   "outputs": [],
   "source": [
    "npx = np.linspace(0,n,n)\n",
    "fig2, ax = plt.subplots(1, 1, figsize=(8, 4))\n",
    "\n",
    "for isca in np.random.randint(0,int(length),3):\n",
    "    ax.plot(npx, np.flipud(Ss[:,isca,nplot-1]),'b.', markersize=1.0);\n",
    "# line10, = ax.plot(npx, np.flipud(Ss[:,int(length/2),nplot-1]),'b.', markersize=1.0); \n",
    "# line10, = ax.plot(npx, np.flipud(Ss[:,int(length/2),nplot-1]), lw=2, label='Stress'); \n",
    "# line11, = ax.plot(npx, np.flipud(Smax), ls='-', lw=1.5, color='green', label='Max'); \n",
    "# line12, = ax.plot(npx, np.flipud(Smin), ls='-', lw=1.5, color='green', label='Min');\n",
    "line13, = ax.plot(npx, np.flipud(Smean), ls='-', lw=3, color='red', label='Mean');\n",
    "\n",
    "# ax.set_ylim(-0.005, 0.305)\n",
    "ax.set_ylabel('Stress, $S$ [$mm$]');\n",
    "\n",
    "ax.set_xlim(0, length)\n",
    "ax.set_xlabel('Water content, $h$ [$g/m^3$]');\n",
    "Xlabels = np.logspace(np.log10(Par_min),np.log10(Par_max),nticker).round(1)\n",
    "ax.set_xticks(np.linspace(0,length,nticker))\n",
    "ax.set_xticklabels(Xlabels)\n",
    "# ax.legend(fontsize=18)\n",
    "ax.grid()\n"
   ]
  },
  {
   "cell_type": "markdown",
   "metadata": {},
   "source": [
    "#### Water: Mean Max Min"
   ]
  },
  {
   "cell_type": "code",
   "execution_count": null,
   "metadata": {},
   "outputs": [],
   "source": [
    "npx = np.linspace(0,n,n)\n",
    "fig2, ax = plt.subplots(1, 1, figsize=(8, 4))\n",
    "\n",
    "for isca in np.random.randint(0,int(length),10):\n",
    "    ax.plot(npx, np.flipud(Ws[:,isca,nplot-1]),'b.', markersize=1.0);\n",
    "# line10, = ax.plot(npx, np.flipud(Ws[:,int(length/2),nplot-1]),'b.', markersize=1.0); \n",
    "# line10, = ax.plot(npx, np.flipud(Ws[:,int(length/2),nplot-1]), lw=2, label='Water'); \n",
    "line11, = ax.plot(npx, np.flipud(Wmax), ls='-', lw=1.5, color='green', label='Max'); \n",
    "line12, = ax.plot(npx, np.flipud(Wmin), ls='-', lw=1.5, color='green', label='Min');\n",
    "line13, = ax.plot(npx, np.flipud(Wmean), ls='-', lw=3, color='red', label='Mean');\n",
    "\n",
    "# ax.set_ylim(0.45, 1.55)\n",
    "ax.set_ylabel('Water, $W$ [$mm$]');\n",
    "\n",
    "ax.set_xlim(0, length)\n",
    "ax.set_xlabel('Water content, $h$ [$g/m^3$]');\n",
    "Xlabels = np.logspace(np.log10(Par_min),np.log10(Par_max),nticker).round(1)\n",
    "ax.set_xticks(np.linspace(0,length,nticker))\n",
    "ax.set_xticklabels(Xlabels)\n",
    "# ax.legend(fontsize=18)\n",
    "ax.grid()\n"
   ]
  },
  {
   "cell_type": "markdown",
   "metadata": {},
   "source": [
    "#### Humidity: Mean Max Min"
   ]
  },
  {
   "cell_type": "code",
   "execution_count": null,
   "metadata": {},
   "outputs": [],
   "source": [
    "npx = np.linspace(0,n,n)\n",
    "fig2, ax = plt.subplots(1, 1, figsize=(8, 4))\n",
    "\n",
    "for isca in np.random.randint(0,int(length),10):\n",
    "    ax.plot(npx, np.flipud(Es[:,isca,nplot-1]),'b.', markersize=1.0);\n",
    "# line10, = ax.plot(npx, np.flipud(Es[:,int(length/2),nplot-1]),'b.', markersize=1.0); \n",
    "# line10, = ax.plot(npx, np.flipud(Es[:,int(length/2),nplot-1]), lw=2, label='Humidity'); \n",
    "line11, = ax.plot(npx, np.flipud(Emax), ls='-', lw=1.5, color='green', label='Max'); \n",
    "line12, = ax.plot(npx, np.flipud(Emin), ls='-', lw=1.5, color='green', label='Min');\n",
    "line13, = ax.plot(npx, np.flipud(Emean), ls='-', lw=3, color='red', label='Mean');\n",
    "\n",
    "# ax.set_ylim(0.99, 1.21)\n",
    "ax.set_ylabel('Humidity, $E$ [$mm$]');\n",
    "\n",
    "ax.set_xlim(0, length)\n",
    "ax.set_xlabel('Water content, $h$ [$g/m^3$]');\n",
    "Xlabels = np.logspace(np.log10(Par_min),np.log10(Par_max),nticker).round(1)\n",
    "ax.set_xticks(np.linspace(0,length,nticker))\n",
    "ax.set_xticklabels(Xlabels)\n",
    "# ax.legend(fontsize=18)\n",
    "ax.grid()\n"
   ]
  },
  {
   "cell_type": "markdown",
   "metadata": {},
   "source": [
    "#### Plant: Mean Max Min"
   ]
  },
  {
   "cell_type": "code",
   "execution_count": null,
   "metadata": {},
   "outputs": [],
   "source": [
    "npx = np.linspace(0,n,n)\n",
    "fig2, ax = plt.subplots(1, 1, figsize=(8, 4))\n",
    "\n",
    "for isca in np.random.randint(0,int(length),10):\n",
    "    ax.plot(npx, np.flipud(Ps[:,isca,nplot-1]),'.', color='gray', markersize=1.0);\n",
    "# line10, = ax.plot(npx, np.flipud(Ps[:,int(length/2),nplot-1]),'b.', markersize=1.0); \n",
    "# line10, = ax.plot(npx, np.flipud(Ps[:,int(length/2),nplot-1]), lw=2, label='Plant'); \n",
    "line11, = ax.plot(npx, np.flipud(Pmax), ls='-', lw=1.5, color='#00CCFF', label='Max'); \n",
    "line12, = ax.plot(npx, np.flipud(Pmin), ls='-', lw=1.5, color='#00CCFF', label='Min'); \n",
    "line13, = ax.plot(npx, np.flipud(Pmean), ls='-', lw=3, color='red', label='Mean');\n",
    "\n",
    "ax.set_ylim(0.18, 0.62)\n",
    "# ax.set_ylabel('Plant biomass, $P$ [$g/m^2$]');\n",
    "\n",
    "ax.set_xlim(0, length)\n",
    "# ax.set_xlabel('Water content, $h$ [$g/m^3$]');\n",
    "Xlabels = np.logspace(np.log10(Par_min),np.log10(Par_max),nticker).round(1)\n",
    "ax.set_xticks(np.linspace(0,length,nticker))\n",
    "ax.set_xticklabels(Xlabels)\n",
    "# ax.legend(fontsize=18)\n",
    "ax.grid()\n",
    "\n",
    "fig2.savefig('Fig6pD_WithCrack.pdf',bbox_inches='tight')"
   ]
  },
  {
   "cell_type": "code",
   "execution_count": null,
   "metadata": {},
   "outputs": [],
   "source": [
    "%reset"
   ]
  },
  {
   "cell_type": "markdown",
   "metadata": {},
   "source": [
    "© 2021, ECNU, Shanghai, Kang Zhang.\\\n",
    "Follow Johan van de Koppel & Quan-Xing Liu."
   ]
  }
 ],
 "metadata": {
  "kernelspec": {
   "display_name": "Python 3 (ipykernel)",
   "language": "python",
   "name": "python3"
  },
  "language_info": {
   "codemirror_mode": {
    "name": "ipython",
    "version": 3
   },
   "file_extension": ".py",
   "mimetype": "text/x-python",
   "name": "python",
   "nbconvert_exporter": "python",
   "pygments_lexer": "ipython3",
   "version": "3.7.12"
  }
 },
 "nbformat": 4,
 "nbformat_minor": 4
}
